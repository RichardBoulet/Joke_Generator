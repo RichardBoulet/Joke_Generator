{
 "cells": [
  {
   "cell_type": "markdown",
   "metadata": {},
   "source": [
    "## Scraper for r/jokes subreddit that will be used to train NLP model"
   ]
  },
  {
   "cell_type": "code",
   "execution_count": 5,
   "metadata": {},
   "outputs": [],
   "source": [
    "import pandas as pd\n",
    "import praw"
   ]
  },
  {
   "cell_type": "code",
   "execution_count": 12,
   "metadata": {},
   "outputs": [],
   "source": [
    "import r_auth\n",
    "\n",
    "reddit = praw.Reddit(client_id = r_auth.client_id,\n",
    "                     client_secret = r_auth.client_secret,\n",
    "                     user_agent = r_auth.user_agent,\n",
    "                     username = r_auth.username,\n",
    "                     password = r_auth.password)\n",
    "\n",
    "\n",
    "subreddit = reddit.subreddit('Jokes')"
   ]
  },
  {
   "cell_type": "code",
   "execution_count": null,
   "metadata": {},
   "outputs": [],
   "source": []
  }
 ],
 "metadata": {
  "kernelspec": {
   "display_name": "jokes",
   "language": "python",
   "name": "jokes"
  },
  "language_info": {
   "codemirror_mode": {
    "name": "ipython",
    "version": 3
   },
   "file_extension": ".py",
   "mimetype": "text/x-python",
   "name": "python",
   "nbconvert_exporter": "python",
   "pygments_lexer": "ipython3",
   "version": "3.8.3"
  }
 },
 "nbformat": 4,
 "nbformat_minor": 4
}
